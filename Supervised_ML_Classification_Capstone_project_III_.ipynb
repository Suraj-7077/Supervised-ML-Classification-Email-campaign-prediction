{
  "nbformat": 4,
  "nbformat_minor": 0,
  "metadata": {
    "colab": {
      "provenance": [],
      "authorship_tag": "ABX9TyNIllKFdcsjlRlJyv6bsKrM",
      "include_colab_link": true
    },
    "kernelspec": {
      "name": "python3",
      "display_name": "Python 3"
    },
    "language_info": {
      "name": "python"
    }
  },
  "cells": [
    {
      "cell_type": "markdown",
      "metadata": {
        "id": "view-in-github",
        "colab_type": "text"
      },
      "source": [
        "<a href=\"https://colab.research.google.com/github/Suraj-7077/Supervised-ML-Classification-Email-campaign-prediction/blob/main/Supervised_ML_Classification_Capstone_project_III_.ipynb\" target=\"_parent\"><img src=\"https://colab.research.google.com/assets/colab-badge.svg\" alt=\"Open In Colab\"/></a>"
      ]
    },
    {
      "cell_type": "code",
      "execution_count": null,
      "metadata": {
        "id": "fpp37NaxYPgd"
      },
      "outputs": [],
      "source": []
    },
    {
      "cell_type": "markdown",
      "source": [
        "# Project Info:- "
      ],
      "metadata": {
        "id": "sMqXP1llcSSX"
      }
    },
    {
      "cell_type": "markdown",
      "source": [
        "## Project Type - EDA and Supervised ML Classification Model Building\n",
        "\n",
        "## Project Title - Bike Sharing Demand Prediction\n",
        "\n",
        "## Contribution - Individual\n",
        "\n",
        "## Created by - Suraj Shrikant Galande"
      ],
      "metadata": {
        "id": "5i-VF_6fcaXd"
      }
    },
    {
      "cell_type": "markdown",
      "source": [
        "# Project Statement :-  \n",
        "\n",
        "## Business objective:-  "
      ],
      "metadata": {
        "id": "kLARxYGLckjN"
      }
    },
    {
      "cell_type": "markdown",
      "source": [
        "### Most of the small to medium business owners are making effective use of Gmail-based Email marketing Strategies for offline targeting of converting their prospective customers into leads so that they stay with them in Business.\n",
        "\n",
        "###  The main objective is to create a machine learning model to characterize the mail and track the mail that is:- \n",
        "ignored:- Class = 0 \n",
        "\n",
        "read:- Class = 1\n",
        "\n",
        " acknowledged by the reader :- Class =2"
      ],
      "metadata": {
        "id": "NWMo506nc8Zl"
      }
    },
    {
      "cell_type": "markdown",
      "source": [
        "# GitHub Repo Link"
      ],
      "metadata": {
        "id": "M_dmSIiWdpiA"
      }
    },
    {
      "cell_type": "markdown",
      "source": [],
      "metadata": {
        "id": "saVAqOqGdt5s"
      }
    },
    {
      "cell_type": "markdown",
      "source": [
        "# Dataset Description"
      ],
      "metadata": {
        "id": "EeGNGmIReC4K"
      }
    },
    {
      "cell_type": "markdown",
      "source": [
        "1) Email_ID - This column contains email ids of customers.\n",
        "\n",
        "2)  Email_type - Email type contains 2 categories i.e. 1 and 2. We can assume that the types are like marketing emails or important updates,notices like email regarding the business \n",
        "\n",
        "3) Subject_Hotness_Score - It is the emails subject's score on the basis of how good and effective contents is.\n",
        "\n",
        "4) Email_Source - It represents the source of the email like sales and marketing or important admin mails related to the product.\n",
        "\n",
        "5) Email_Campaign_Type - The Campaign type of email.\n",
        "\n",
        "6) Total_Past_Communications - This mail contains, The total previous mails from the same source, the number of communication with customers had. \n",
        "\n",
        "7) Customer_Location - Categorical data which explains the different demographic location of the customers.\n",
        "\n",
        "8) Time_Email_sent_Category - It has 3 categories of time slots:\n",
        "\n",
        " email sent at morning time slot = 1\n",
        "\n",
        " email sent at evening time slot = 2\n",
        "\n",
        " email sent at night time sllot = 3\n",
        "\n",
        "9) Word_Count - It contains the no.of words in the mail.\n",
        "\n",
        "10) Total_Links - Total links in the email body.\n",
        "\n",
        "11) Total_Images - The number of images in the email body.\n",
        "\n",
        "12) Email_Status - It is the target variable which contains the characterization of the mail that is \n",
        "\n",
        "ignored = 0 \n",
        "\n",
        "read = 1\n",
        "\n",
        "acknowledged by the reader = 2"
      ],
      "metadata": {
        "id": "gEGdwLCGeEqd"
      }
    },
    {
      "cell_type": "markdown",
      "source": [
        "## Now performing EDA and see how this email dataset is giving prediction regarding email status "
      ],
      "metadata": {
        "id": "DO9SkHg0iMIm"
      }
    },
    {
      "cell_type": "markdown",
      "source": [
        "# EDA "
      ],
      "metadata": {
        "id": "fWwTAxV_ifgD"
      }
    },
    {
      "cell_type": "markdown",
      "source": [
        "### Importing Lbraries "
      ],
      "metadata": {
        "id": "QrVsbvWPjQ_h"
      }
    },
    {
      "cell_type": "code",
      "source": [
        "import numpy as np\n",
        "import pandas as pd \n",
        "import matplotlib.pyplot as plt \n",
        "import seaborn as sns\n",
        "\n"
      ],
      "metadata": {
        "id": "Cx5YtCv5jfgA"
      },
      "execution_count": 1,
      "outputs": []
    },
    {
      "cell_type": "code",
      "source": [],
      "metadata": {
        "id": "KYOgP3sZlC9k"
      },
      "execution_count": null,
      "outputs": []
    }
  ]
}